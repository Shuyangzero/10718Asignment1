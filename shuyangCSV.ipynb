{
 "cells": [
  {
   "cell_type": "code",
   "execution_count": 2,
   "metadata": {},
   "outputs": [],
   "source": [
    "import pandas as pd\n",
    "import censusdata\n",
    "pd.set_option('display.expand_frame_repr', False)\n",
    "pd.set_option('display.precision', 2)"
   ]
  },
  {
   "cell_type": "code",
   "execution_count": 3,
   "metadata": {},
   "outputs": [],
   "source": [
    "state = '12' # 12 for Florida\n",
    "file = 'data.csv'\n",
    "countyInfo = censusdata.geographies(censusdata.censusgeo([('state', state), ('county', '*')]), 'acs5', 2018)\n",
    "countyList = [countyInfo[key].geo[1][1] for key in countyInfo.keys()]\n",
    "variableInfo = censusdata.search('acs5', 2018, 'concept', '^sex by age$')\n",
    "variables = [x[0] for x in censusdata.search('acs5', 2018, 'concept', '^sex by age$')] #+ [x[0] for x in censusdata.search('acs5', 2018, 'concept', '^POVERTY STATUS IN THE PAST 12 MONTHS BY SEX BY AGE$')]"
   ]
  },
  {
   "cell_type": "code",
   "execution_count": 46,
   "metadata": {},
   "outputs": [],
   "source": [
    "data = None\n",
    "for county in countyList:\n",
    "    if data is None:\n",
    "        data = censusdata.download('acs5', 2018, censusdata.censusgeo([('state', '12'), ('county', county), ('block group', '*')]), variables, key='020ff242f34ad5f5480622fc252011f490ed87dc')\n",
    "    else:\n",
    "        data = pd.concat([data, censusdata.download('acs5', 2018, censusdata.censusgeo([('state', '12'), ('county', county), ('block group', '*')]), variables, key='020ff242f34ad5f5480622fc252011f490ed87dc')])"
   ]
  },
  {
   "cell_type": "code",
   "execution_count": 47,
   "metadata": {},
   "outputs": [],
   "source": [
    "censusdata.export.exportcsv(file, data)"
   ]
  }
 ],
 "metadata": {
  "kernelspec": {
   "display_name": "turnout3",
   "language": "python",
   "name": "turnout3"
  },
  "language_info": {
   "codemirror_mode": {
    "name": "ipython",
    "version": 3
   },
   "file_extension": ".py",
   "mimetype": "text/x-python",
   "name": "python",
   "nbconvert_exporter": "python",
   "pygments_lexer": "ipython3",
   "version": "3.7.5"
  }
 },
 "nbformat": 4,
 "nbformat_minor": 4
}
